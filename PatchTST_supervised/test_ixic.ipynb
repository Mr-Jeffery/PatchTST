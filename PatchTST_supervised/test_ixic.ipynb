{
 "cells": [
  {
   "cell_type": "code",
   "execution_count": 28,
   "metadata": {},
   "outputs": [
    {
     "name": "stdout",
     "output_type": "stream",
     "text": [
      "0.10.0\n"
     ]
    }
   ],
   "source": [
    "import os\n",
    "os.environ[\"QUANDL_API_KEY\"] = \"\"\n",
    "from pandas_datareader import data as pdr\n",
    "import datetime as dt\n",
    "import sklearn\n",
    "import pandas_datareader\n",
    "print(pandas_datareader.__version__)\n"
   ]
  },
  {
   "cell_type": "code",
   "execution_count": null,
   "metadata": {},
   "outputs": [],
   "source": [
    "start = dt.datetime(2024, 1, 1)\n",
    "end = dt.datetime.now()\n",
    "df = pdr.DataReader(\"AAPL\", \"quandl\",start, end)"
   ]
  },
  {
   "cell_type": "code",
   "execution_count": 21,
   "metadata": {},
   "outputs": [],
   "source": [
    "import nasdaqdatalink\n",
    "start = dt.datetime(2024, 1, 1)\n",
    "end = dt.datetime.now()\n",
    "mydata = nasdaqdatalink.get(\"WIKI/AAPL\",start_date=\"2001-12-31\", end_date=\"2005-12-31\")"
   ]
  },
  {
   "cell_type": "code",
   "execution_count": 23,
   "metadata": {},
   "outputs": [],
   "source": [
    "mydata.to_csv('testout.csv')"
   ]
  },
  {
   "cell_type": "code",
   "execution_count": 25,
   "metadata": {},
   "outputs": [
    {
     "name": "stdout",
     "output_type": "stream",
     "text": [
      "            Index Value      High       Low  Total Market Value  \\\n",
      "Trade Date                                                        \n",
      "2003-01-21      1364.25   1386.71   1364.25        2.002390e+09   \n",
      "2003-01-22      1358.23   1379.61   1358.23        1.993347e+09   \n",
      "2003-01-23      1393.67   1393.67   1365.11        2.045017e+09   \n",
      "2003-01-24      1340.22   1382.35   1340.22        1.966169e+09   \n",
      "2003-01-27      1320.32   1349.83   1320.32        1.936847e+09   \n",
      "...                 ...       ...       ...                 ...   \n",
      "2021-07-22     14684.60  14694.19  14617.87        2.348157e+13   \n",
      "2021-07-23     14836.99  14846.06  14698.77        2.373573e+13   \n",
      "2021-07-26     14840.71  14863.65  14790.49        2.375288e+13   \n",
      "2021-07-27     14660.58  14811.08  14503.76        2.349359e+13   \n",
      "2021-07-28          NaN      0.00      0.00                 NaN   \n",
      "\n",
      "            Dividend Market Value  \n",
      "Trade Date                         \n",
      "2003-01-21           3.020000e+02  \n",
      "2003-01-22           3.534900e+04  \n",
      "2003-01-23           2.514000e+04  \n",
      "2003-01-24           1.974000e+03  \n",
      "2003-01-27           3.690000e+02  \n",
      "...                           ...  \n",
      "2021-07-22           6.653046e+07  \n",
      "2021-07-23           1.004150e+09  \n",
      "2021-07-26           1.619359e+08  \n",
      "2021-07-27           1.125870e+07  \n",
      "2021-07-28           2.360220e+06  \n",
      "\n",
      "[4669 rows x 5 columns]\n"
     ]
    }
   ],
   "source": [
    "import quandl\n",
    "\n",
    "ndq = quandl.get(\"NASDAQOMX/COMP-NASDAQ\", \n",
    "              trim_start='2000-01-01', \n",
    "              trim_end=dt.datetime.now())\n",
    "\n",
    "print(ndq)"
   ]
  },
  {
   "cell_type": "code",
   "execution_count": 26,
   "metadata": {},
   "outputs": [],
   "source": [
    "ndq.to_csv('ndq.csv')"
   ]
  },
  {
   "cell_type": "code",
   "execution_count": null,
   "metadata": {},
   "outputs": [],
   "source": [
    "preproc_pipe = sklearn.pipeline.Pipeline([\n",
    "    ('shrinker', TSShrinkDataFrame()), # shrink dataframe memory usage\n",
    "    ('drop_duplicates', TSDropDuplicates(datetime_col=datetime_col)), # drop duplicate rows (if any)\n",
    "    ('add_mts', TSAddMissingTimestamps(datetime_col=datetime_col, freq=freq)), # ass missing timestamps (if any)\n",
    "    ('fill_missing', TSFillMissing(columns=columns, method=method, value=value)), # fill missing data (1st ffill. 2nd value=0)\n",
    "    ], \n",
    "    verbose=True)"
   ]
  }
 ],
 "metadata": {
  "kernelspec": {
   "display_name": "stock",
   "language": "python",
   "name": "python3"
  },
  "language_info": {
   "codemirror_mode": {
    "name": "ipython",
    "version": 3
   },
   "file_extension": ".py",
   "mimetype": "text/x-python",
   "name": "python",
   "nbconvert_exporter": "python",
   "pygments_lexer": "ipython3",
   "version": "3.10.0"
  }
 },
 "nbformat": 4,
 "nbformat_minor": 2
}
